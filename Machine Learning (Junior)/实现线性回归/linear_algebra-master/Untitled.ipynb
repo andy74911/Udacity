{
 "cells": [
  {
   "cell_type": "code",
   "execution_count": 3,
   "metadata": {},
   "outputs": [
    {
     "data": {
      "text/plain": [
       "-2964112.0000000009"
      ]
     },
     "execution_count": 3,
     "metadata": {},
     "output_type": "execute_result"
    }
   ],
   "source": [
    "import numpy as np\n",
    "def shape(M):\n",
    "    r0 = M[0]\n",
    "    row = len(M)\n",
    "    col = len(r0)\n",
    "    return (row,col)\n",
    "def create_array(row, col):\n",
    "    M = [None] * row\n",
    "    r = 0\n",
    "    while r < row:\n",
    "        M[r] = [None] * col\n",
    "        r += 1\n",
    "    return M\n",
    "def matrix_AB_to_A_B(M):\n",
    "    row, col = shape(M)\n",
    "    A = create_array(row, col-1)\n",
    "    B = create_array(row, 1)\n",
    "    r = 0\n",
    "    while r < row:\n",
    "        c = 0\n",
    "        while c < col:\n",
    "            if c < col -1 :\n",
    "                A[r][c] = M[r][c]\n",
    "            else:\n",
    "                B[r][0] = M[r][c]\n",
    "            c += 1\n",
    "        r += 1\n",
    "    return (A, B)\n",
    "Arr = [[-10, -2, -2, -3, 1, -6, 5, 6], [0, 3, -4, 3, -5, 4, -5, 0], [7, -7, 2, 9, -8, 6, 2, 2], [4, -1, 0, -4, 2, 9, 8, 3], [7, -6, -6, -6, 0, -2, -2, 4], [-6, 9, 5, -1, 0, -4, 3, 5], [2, 4, 7, 0, 0, 7, 5, 1]]\n",
    "A, B = matrix_AB_to_A_B(Arr)\n",
    "np.linalg.det(A)"
   ]
  }
 ],
 "metadata": {
  "kernelspec": {
   "display_name": "Python 3",
   "language": "python",
   "name": "python3"
  },
  "language_info": {
   "codemirror_mode": {
    "name": "ipython",
    "version": 3
   },
   "file_extension": ".py",
   "mimetype": "text/x-python",
   "name": "python",
   "nbconvert_exporter": "python",
   "pygments_lexer": "ipython3",
   "version": "3.6.3"
  }
 },
 "nbformat": 4,
 "nbformat_minor": 2
}
