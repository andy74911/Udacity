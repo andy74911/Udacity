{
 "cells": [
  {
   "cell_type": "markdown",
   "metadata": {},
   "source": [
    "# 于巴西未前往就诊的挂号预约探讨\n",
    "\n",
    "## Table of Contents\n",
    "<ul>\n",
    "<li><a href=\"#intro\">简介</a></li>\n",
    "<li><a href=\"#question\">提出问题</a></li>\n",
    "<li><a href=\"#wrangling\">数据收集和整理</a></li>\n",
    "<li><a href=\"#eda\">探索性数据分析</a></li>\n",
    "<li><a href=\"#conclusions\">总结</a></li>\n",
    "</ul>"
   ]
  },
  {
   "cell_type": "markdown",
   "metadata": {},
   "source": [
    "<a id='intro'></a>\n",
    "## 简介\n",
    "\n",
    "本数据集包含10万条巴西预约挂号的求诊信息，研究病人是否如约前往医院就诊。每行数据录入了有关患者特点的多个数值，包括 “预约日期 (ScheduledDay)”指患者具体预约就诊的日期；“街区 (Neighborhood) ”指医院所在位置；“福利保障 (Scholarship)”说明病人是否是巴西福利项目 Bolsa Família 的保障人群；请注意最后一列内容的编码：“No”表示病人已如约就诊，“Yes”说明病人未前往就诊。"
   ]
  },
  {
   "cell_type": "markdown",
   "metadata": {},
   "source": [
    "<a id=\"question\"></a>\n",
    "## 提出问题\n",
    "\n",
    "数据中除了预约日期、预约的就诊日期、年龄、街区、是否有福利保障外尚有慢性病如高血压、糖尿病、酗酒或行动不便者及简讯通知与否，试着透过这些参数分析与是否前往就诊有无显着关系。\n",
    "\n",
    "**问题 1**:统计男女预约就诊率比例的差异<br>\n",
    "**问题 2**:统计福利保障人群是的预约就诊率比例于非福利保障人群的不同<br>\n",
    "**问题 3**:分析年龄是否是预约就诊率明显变因之一<br>\n",
    "**问题 4**:慢性病者(高血压、糖尿病)、酗酒、行动不便者或简讯通知的预约就诊率比例<br>"
   ]
  },
  {
   "cell_type": "markdown",
   "metadata": {},
   "source": [
    "<a id='wrangling'></a>\n",
    "## 数据收集和整理\n"
   ]
  },
  {
   "cell_type": "code",
   "execution_count": 1,
   "metadata": {},
   "outputs": [
    {
     "data": {
      "text/html": [
       "<div>\n",
       "<style>\n",
       "    .dataframe thead tr:only-child th {\n",
       "        text-align: right;\n",
       "    }\n",
       "\n",
       "    .dataframe thead th {\n",
       "        text-align: left;\n",
       "    }\n",
       "\n",
       "    .dataframe tbody tr th {\n",
       "        vertical-align: top;\n",
       "    }\n",
       "</style>\n",
       "<table border=\"1\" class=\"dataframe\">\n",
       "  <thead>\n",
       "    <tr style=\"text-align: right;\">\n",
       "      <th></th>\n",
       "      <th>PatientId</th>\n",
       "      <th>AppointmentID</th>\n",
       "      <th>Gender</th>\n",
       "      <th>ScheduledDay</th>\n",
       "      <th>AppointmentDay</th>\n",
       "      <th>Age</th>\n",
       "      <th>Neighbourhood</th>\n",
       "      <th>Scholarship</th>\n",
       "      <th>Hipertension</th>\n",
       "      <th>Diabetes</th>\n",
       "      <th>Alcoholism</th>\n",
       "      <th>Handcap</th>\n",
       "      <th>SMS_received</th>\n",
       "      <th>No-show</th>\n",
       "    </tr>\n",
       "  </thead>\n",
       "  <tbody>\n",
       "    <tr>\n",
       "      <th>0</th>\n",
       "      <td>2.987250e+13</td>\n",
       "      <td>5642903</td>\n",
       "      <td>F</td>\n",
       "      <td>2016-04-29T18:38:08Z</td>\n",
       "      <td>2016-04-29T00:00:00Z</td>\n",
       "      <td>62</td>\n",
       "      <td>JARDIM DA PENHA</td>\n",
       "      <td>0</td>\n",
       "      <td>1</td>\n",
       "      <td>0</td>\n",
       "      <td>0</td>\n",
       "      <td>0</td>\n",
       "      <td>0</td>\n",
       "      <td>No</td>\n",
       "    </tr>\n",
       "    <tr>\n",
       "      <th>1</th>\n",
       "      <td>5.589978e+14</td>\n",
       "      <td>5642503</td>\n",
       "      <td>M</td>\n",
       "      <td>2016-04-29T16:08:27Z</td>\n",
       "      <td>2016-04-29T00:00:00Z</td>\n",
       "      <td>56</td>\n",
       "      <td>JARDIM DA PENHA</td>\n",
       "      <td>0</td>\n",
       "      <td>0</td>\n",
       "      <td>0</td>\n",
       "      <td>0</td>\n",
       "      <td>0</td>\n",
       "      <td>0</td>\n",
       "      <td>No</td>\n",
       "    </tr>\n",
       "  </tbody>\n",
       "</table>\n",
       "</div>"
      ],
      "text/plain": [
       "      PatientId  AppointmentID Gender          ScheduledDay  \\\n",
       "0  2.987250e+13        5642903      F  2016-04-29T18:38:08Z   \n",
       "1  5.589978e+14        5642503      M  2016-04-29T16:08:27Z   \n",
       "\n",
       "         AppointmentDay  Age    Neighbourhood  Scholarship  Hipertension  \\\n",
       "0  2016-04-29T00:00:00Z   62  JARDIM DA PENHA            0             1   \n",
       "1  2016-04-29T00:00:00Z   56  JARDIM DA PENHA            0             0   \n",
       "\n",
       "   Diabetes  Alcoholism  Handcap  SMS_received No-show  \n",
       "0         0           0        0             0      No  \n",
       "1         0           0        0             0      No  "
      ]
     },
     "execution_count": 1,
     "metadata": {},
     "output_type": "execute_result"
    }
   ],
   "source": [
    "%matplotlib inline\n",
    "import matplotlib\n",
    "import numpy as np\n",
    "import pandas as pd\n",
    "import matplotlib.pyplot as plt\n",
    "import pprint as pp\n",
    "file_path  =  './KaggleV2-May-2016.csv'\n",
    "df = pd.read_csv(file_path)\n",
    "df.head(2)\n"
   ]
  },
  {
   "cell_type": "code",
   "execution_count": 2,
   "metadata": {
    "scrolled": true
   },
   "outputs": [
    {
     "name": "stdout",
     "output_type": "stream",
     "text": [
      "是否有缺资料:False\n",
      "Index(['PatientId', 'AppointmentID', 'Gender', 'ScheduledDay',\n",
      "       'AppointmentDay', 'Age', 'Neighbourhood', 'Scholarship', 'Hipertension',\n",
      "       'Diabetes', 'Alcoholism', 'Handcap', 'SMS_received', 'No-show'],\n",
      "      dtype='object')\n",
      "Age data type: {0, 1, 2, 3, 4, 5, 6, 7, 8, 9, 10, 11, 12, 13, 14, 15, 16, 17, 18, 19, 20, 21, 22, 23, 24, 25, 26, 27, 28, 29, 30, 31, 32, 33, 34, 35, 36, 37, 38, 39, 40, 41, 42, 43, 44, 45, 46, 47, 48, 49, 50, 51, 52, 53, 54, 55, 56, 57, 58, 59, 60, 61, 62, 63, 64, 65, 66, 67, 68, 69, 70, 71, 72, 73, 74, 75, 76, 77, 78, 79, 80, 81, 82, 83, 84, 85, 86, 87, 88, 89, 90, 91, 92, 93, 94, 95, 96, 97, 98, 99, 100, 102, 115, -1}\n",
      "Scholarship data type: {0, 1}\n",
      "Hipertension data type: {0, 1}\n",
      "Diabetes data type: {0, 1}\n",
      "Alcoholism data type: {0, 1}\n",
      "Handcap data type: {0, 1, 2, 3, 4}\n"
     ]
    }
   ],
   "source": [
    "print(\"是否有缺资料:{}\".format(df.isnull().any().any()))\n",
    "print(df.columns)\n",
    "print('Age data type: {}'.format(set(df['Age'])))\n",
    "print('Scholarship data type: {}'.format(set(df['Scholarship'])))\n",
    "print('Hipertension data type: {}'.format(set(df['Hipertension'])))\n",
    "print('Diabetes data type: {}'.format(set(df['Diabetes'])))\n",
    "print('Alcoholism data type: {}'.format(set(df['Alcoholism'])))\n",
    "print('Handcap data type: {}'.format(set(df['Handcap'])))"
   ]
  },
  {
   "cell_type": "markdown",
   "metadata": {},
   "source": [
    "'Age'的资料有小于0的资料类型，过滤不合理的数据，其他的如Scholarship、Hipertension、Diabetes、Alcoholism及Handcap，观察无不合理数据。"
   ]
  },
  {
   "cell_type": "code",
   "execution_count": 3,
   "metadata": {},
   "outputs": [
    {
     "name": "stdout",
     "output_type": "stream",
     "text": [
      "Age data type: {0, 1, 2, 3, 4, 5, 6, 7, 8, 9, 10, 11, 12, 13, 14, 15, 16, 17, 18, 19, 20, 21, 22, 23, 24, 25, 26, 27, 28, 29, 30, 31, 32, 33, 34, 35, 36, 37, 38, 39, 40, 41, 42, 43, 44, 45, 46, 47, 48, 49, 50, 51, 52, 53, 54, 55, 56, 57, 58, 59, 60, 61, 62, 63, 64, 65, 66, 67, 68, 69, 70, 71, 72, 73, 74, 75, 76, 77, 78, 79, 80, 81, 82, 83, 84, 85, 86, 87, 88, 89, 90, 91, 92, 93, 94, 95, 96, 97, 98, 99, 100, 102, 115}\n"
     ]
    }
   ],
   "source": [
    "df= df[df.Age >= 0]\n",
    "print('Age data type: {}'.format(set(df['Age'])))"
   ]
  },
  {
   "cell_type": "markdown",
   "metadata": {},
   "source": [
    "**问题 1** :统计男女就诊比例的差异"
   ]
  },
  {
   "cell_type": "code",
   "execution_count": 4,
   "metadata": {},
   "outputs": [
    {
     "data": {
      "text/plain": [
       "<matplotlib.axes._subplots.AxesSubplot at 0xaf7fef0>"
      ]
     },
     "execution_count": 4,
     "metadata": {},
     "output_type": "execute_result"
    },
    {
     "data": {
      "image/png": "[encoded data removed]",
      "text/plain": [
       "<matplotlib.figure.Figure at 0x474a240>"
      ]
     },
     "metadata": {},
     "output_type": "display_data"
    }
   ],
   "source": [
    "df['show_bool'] = df['No-show'].map({'Yes':0, 'No':1})\n",
    "gender_show = df.groupby('Gender')['PatientId'].count()\n",
    "gender_show.plot(kind = 'pie', startangle = 90, autopct = '%.0f%%')"
   ]
  },
  {
   "cell_type": "code",
   "execution_count": 5,
   "metadata": {},
   "outputs": [
    {
     "name": "stdout",
     "output_type": "stream",
     "text": [
      "Gender\n",
      "F    0.796851\n",
      "M    0.800321\n",
      "Name: show_bool, dtype: float64\n"
     ]
    },
    {
     "data": {
      "text/plain": [
       "<matplotlib.axes._subplots.AxesSubplot at 0xa6946a0>"
      ]
     },
     "execution_count": 5,
     "metadata": {},
     "output_type": "execute_result"
    },
    {
     "data": {
      "image/png": "[encoded data removed]",
      "text/plain": [
       "<matplotlib.figure.Figure at 0x9e8ed68>"
      ]
     },
     "metadata": {},
     "output_type": "display_data"
    }
   ],
   "source": [
    "gender_ratio = df.groupby('Gender')['show_bool'].mean()\n",
    "print(gender_ratio)\n",
    "gender_ratio.plot(kind = 'bar', title = 'Patient Gender VS Show Rate')"
   ]
  },
  {
   "cell_type": "markdown",
   "metadata": {},
   "source": [
    "**答案 1** : 经统计结果观察女性预约看诊的人数约是男性看诊的两倍，然而预约就诊率的比例相当接近，皆约80%，无明显统计差异，因此单就性别无法当作预测就诊率的指标。"
   ]
  },
  {
   "cell_type": "markdown",
   "metadata": {},
   "source": [
    "**问题 2** :统计福利保障人群是的预约就诊率比例于非福利保障人群的不同"
   ]
  },
  {
   "cell_type": "code",
   "execution_count": 6,
   "metadata": {},
   "outputs": [
    {
     "data": {
      "text/plain": [
       "<bound method Series.unstack of scholarship_bool  show_bool\n",
       "N                 0            19741\n",
       "                  1            79924\n",
       "Y                 0             2578\n",
       "                  1             8283\n",
       "Name: PatientId, dtype: int64>"
      ]
     },
     "execution_count": 6,
     "metadata": {},
     "output_type": "execute_result"
    },
    {
     "data": {
      "image/png": "[encoded data removed]",
      "text/plain": [
       "<matplotlib.figure.Figure at 0xa948630>"
      ]
     },
     "metadata": {},
     "output_type": "display_data"
    }
   ],
   "source": [
    "df['scholarship_bool']= df['Scholarship'].map({1:'Y', 0:'N'})\n",
    "scholar_show = df.groupby(['scholarship_bool','show_bool'])['PatientId'].count()\n",
    "scholar_show.unstack().plot(kind = 'bar', stacked = 'True')\n",
    "scholar_show.unstack"
   ]
  },
  {
   "cell_type": "code",
   "execution_count": 7,
   "metadata": {},
   "outputs": [
    {
     "name": "stdout",
     "output_type": "stream",
     "text": [
      "scholarship_bool\n",
      "N    0.801926\n",
      "Y    0.762637\n",
      "Name: show_bool, dtype: float64\n"
     ]
    },
    {
     "data": {
      "text/plain": [
       "<matplotlib.axes._subplots.AxesSubplot at 0xa9cb9b0>"
      ]
     },
     "execution_count": 7,
     "metadata": {},
     "output_type": "execute_result"
    },
    {
     "data": {
      "image/png": "[encoded data removed]",
      "text/plain": [
       "<matplotlib.figure.Figure at 0xa9a51d0>"
      ]
     },
     "metadata": {},
     "output_type": "display_data"
    }
   ],
   "source": [
    "scholar_ratio = df.groupby('scholarship_bool')['show_bool'].mean()\n",
    "print(scholar_ratio)\n",
    "scholar_ratio.plot(kind = 'bar', title = 'Scholarship VS Show Rate')"
   ]
  },
  {
   "cell_type": "markdown",
   "metadata": {},
   "source": [
    "**答案 2** :观察统计结果，拥有福利保障人数明显远小于无福利保障的人数，约是无福利保障人数的四分之一，然而无福利保障的人群预约就诊率明显略低于拥有福利保障的人群，其可列为预测参数之一。"
   ]
  },
  {
   "cell_type": "markdown",
   "metadata": {},
   "source": [
    "**问题 3**:分析年龄是否是预约就诊率明显变因之一"
   ]
  },
  {
   "cell_type": "code",
   "execution_count": 8,
   "metadata": {
    "collapsed": true
   },
   "outputs": [],
   "source": [
    "age_level_list = [ 10, 20, 30, 40, 50, 60, 70 ]\n",
    "age_level_string = ['0-9', '10-19', '20-29', '30-39', '40-49', '50-59', '60-69', '70-']\n",
    "age_levels = []\n",
    "\n",
    "for row in df['Age']:\n",
    "    i = 0    \n",
    "    while i < len(age_level_list) and row > age_level_list[i]:\n",
    "        i += 1\n",
    "    level = age_level_string[i]\n",
    "    age_levels.append(level)\n",
    "\n",
    "df['AgeLevel'] = age_levels"
   ]
  },
  {
   "cell_type": "code",
   "execution_count": 9,
   "metadata": {},
   "outputs": [
    {
     "data": {
      "text/plain": [
       "AgeLevel\n",
       "0-9      18749\n",
       "10-19    13099\n",
       "20-29    13783\n",
       "30-39    15052\n",
       "40-49    14420\n",
       "50-59    15661\n",
       "60-69    11189\n",
       "70-       8573\n",
       "Name: PatientId, dtype: int64"
      ]
     },
     "execution_count": 9,
     "metadata": {},
     "output_type": "execute_result"
    },
    {
     "data": {
      "image/png": "[encoded data removed]",
      "text/plain": [
       "<matplotlib.figure.Figure at 0xaade7b8>"
      ]
     },
     "metadata": {},
     "output_type": "display_data"
    }
   ],
   "source": [
    "group_age_level = df.groupby('AgeLevel')['PatientId'].count()\n",
    "group_age_level.plot(kind = 'pie' , title = 'Population', autopct = '%.0f%%')\n",
    "group_age_level"
   ]
  },
  {
   "cell_type": "code",
   "execution_count": 10,
   "metadata": {},
   "outputs": [
    {
     "data": {
      "text/plain": [
       "AgeLevel\n",
       "0-9      0.797963\n",
       "10-19    0.747462\n",
       "20-29    0.753755\n",
       "30-39    0.785278\n",
       "40-49    0.800971\n",
       "50-59    0.826256\n",
       "60-69    0.852712\n",
       "70-      0.841596\n",
       "Name: show_bool, dtype: float64"
      ]
     },
     "execution_count": 10,
     "metadata": {},
     "output_type": "execute_result"
    },
    {
     "data": {
      "image/png": "[encoded data removed]",
      "text/plain": [
       "<matplotlib.figure.Figure at 0xaafe898>"
      ]
     },
     "metadata": {},
     "output_type": "display_data"
    }
   ],
   "source": [
    "age_level_ratio = df.groupby('AgeLevel')['show_bool'].mean()\n",
    "age_level_ratio.plot(kind = 'bar', title = 'Scholarship VS Show Rate')\n",
    "age_level_ratio"
   ]
  },
  {
   "cell_type": "markdown",
   "metadata": {},
   "source": [
    "**答案 3** : 統計趨勢觀察起來，不足十岁的儿童占最大的看诊人群，可能身体属于发展阶段，抵抗力相较比较差，而也是家长较为谨慎的年记，随着身体发育，10至29岁这阶段，身体相较比较好，所以看诊人数及就诊率明显都较低，就诊人数30到59这个阶段，人数较接近，而就诊率则为微幅上升，60至69歲這個區間的就診人数就明显较少，但预约就诊率最高，統計上年龄可列為觀察指標之一。"
   ]
  },
  {
   "cell_type": "markdown",
   "metadata": {},
   "source": [
    "**问题 4** :慢性病者(高血压、糖尿病)、酗酒或行动不便者的预约就诊率比例"
   ]
  },
  {
   "cell_type": "code",
   "execution_count": 11,
   "metadata": {},
   "outputs": [],
   "source": [
    "'''series_handicap = []\n",
    "def handicap_fun(data):\n",
    "    result = 0\n",
    "    if data > 0:\n",
    "        result = 1\n",
    "    return result'''\n",
    "#df['IsHandcap'] = df['Handcap'].apply(handicap_fun)\n",
    "df['IsHandcap'] = (df['Handcap'] > 0).astype(int)"
   ]
  },
  {
   "cell_type": "code",
   "execution_count": 12,
   "metadata": {
    "collapsed": true
   },
   "outputs": [],
   "source": [
    "column_list = ['Hipertension', 'Diabetes', 'Alcoholism','IsHandcap','SMS_received']\n",
    "column_name = ['Hipertension', 'Diabetes', 'Alcoholism','Handcap','SMS_received']\n",
    "static_dic = {}\n",
    "for item in column_list:\n",
    "    _df = df.groupby(item)['show_bool']\n",
    "    _count = _df.count()\n",
    "    _mean = _df.mean()\n",
    "    _sta = {'count': _count, 'mean':_mean}\n",
    "    static_dic[item] = _sta"
   ]
  },
  {
   "cell_type": "code",
   "execution_count": 13,
   "metadata": {
    "collapsed": true
   },
   "outputs": [],
   "source": [
    "def draw_plot(_column, _dic, _item, _title, _xticks):\n",
    "    _0_list = []\n",
    "    _1_list = []\n",
    "    for item in column_list:\n",
    "        _0_list.append(_dic[item][_item][0])\n",
    "        _1_list.append(_dic[item][_item][1])\n",
    "    N = len(_0_list) \n",
    "    ind =  np.arange(N) \n",
    "    width = 0.35\n",
    "    fig, ax = plt.subplots()\n",
    "    p1 = ax.bar(ind, _1_list, width, color='r', bottom = 0.0)\n",
    "    p2 = ax.bar(ind + width, _0_list , width,color='y', bottom=0)\n",
    "    ax.set_xticks(ind + width / 2)\n",
    "    ax.set_xticklabels(column_name)\n",
    "    ax.legend((p1[0], p2[0]), _xticks)\n",
    "    fig.suptitle(_title , fontsize=14, fontweight='bold')"
   ]
  },
  {
   "cell_type": "code",
   "execution_count": 14,
   "metadata": {},
   "outputs": [
    {
     "data": {
      "image/png": "[encoded data removed]",
      "text/plain": [
       "<matplotlib.figure.Figure at 0xab57978>"
      ]
     },
     "metadata": {},
     "output_type": "display_data"
    }
   ],
   "source": [
    "xticks = ('With', 'Without')\n",
    "title = 'Population'\n",
    "draw_plot(column_list, static_dic, 'count', _xticks = xticks, _title = title)"
   ]
  },
  {
   "cell_type": "code",
   "execution_count": 15,
   "metadata": {},
   "outputs": [
    {
     "data": {
      "image/png": "[encoded data removed]",
      "text/plain": [
       "<matplotlib.figure.Figure at 0xac0ac18>"
      ]
     },
     "metadata": {},
     "output_type": "display_data"
    }
   ],
   "source": [
    "xticks = ('With', 'Without')\n",
    "title = 'Show Rate'\n",
    "draw_plot(column_list, static_dic, 'mean', _xticks = xticks, _title = title )"
   ]
  },
  {
   "cell_type": "markdown",
   "metadata": {},
   "source": [
    "**答案 4** : 高血压及简讯通知人数上较多，因此统计上参考性较高，观察结果高血压患者就诊率明显略高于非高血压患者；而简讯通知者反而报到就诊率较无简讯通知者低，简讯的通知对就诊率无帮助。"
   ]
  },
  {
   "cell_type": "markdown",
   "metadata": {},
   "source": [
    "<a id='conclusions'></a>\n",
    "## 总结\n",
    "根据巴西预约挂号数据分析男女不同性别人数上有显注的差异，女性就诊人数明显高于男性就诊，造成此人数上的明显差异可能要需要其他数据一同分析探讨，如当然就业机会是否较低，或是女性就业机会较高，导致男性至外地工作等因素；就诊率而言性别并无明显差异。福利保障人群是属于少数比例民众的权利，然而就诊率确明显较低，可能福利保障使得民众相较不重视此医疗资源，其符合一般常理。年龄层的不同人数上亦有不同的驱势，不足十岁的儿童占最大的看诊人数，其就诊率亦有所明显差异，不足十岁的儿童就诊率是相较较高，而10至29岁的年龄层最低，可能年纪较轻对于看健建较不担心，随着年龄增长开始重视健康，到60至69就诊率最高，而70以上可能行动上较不方便所以略降。最后通知患有疾病患者的就诊率就人数上高血压患者及简讯通知道的统计人数较充足，具有较高的参考性，高血压患者的就诊率是较无高血压患者的就诊率高一些，其中比较违反常理的是简讯的通知反而对就诊率的帮助是反向的。\n",
    "\n",
    "此份报告是由巴西预约挂号数据分析，其无就诊医院的相关资料，如医院的设备及民众看诊的项目，医院设备越齐全，民众前往的意愿会较高，然而亦可能导致更高的看诊费用，导致降低民众的意愿。医院的位置和民众的居住地亦有一定的相依性，路途过于遥远或是医院周边交通的便利性亦是影响民众前往的意愿，另外天气亦可能是影响赴约的意愿，这些因素亦是可以探讨的方向"
   ]
  }
 ],
 "metadata": {
  "kernelspec": {
   "display_name": "Python 3",
   "language": "python",
   "name": "python3"
  },
  "language_info": {
   "codemirror_mode": {
    "name": "ipython",
    "version": 3
   },
   "file_extension": ".py",
   "mimetype": "text/x-python",
   "name": "python",
   "nbconvert_exporter": "python",
   "pygments_lexer": "ipython3",
   "version": "3.6.3"
  }
 },
 "nbformat": 4,
 "nbformat_minor": 2
}
