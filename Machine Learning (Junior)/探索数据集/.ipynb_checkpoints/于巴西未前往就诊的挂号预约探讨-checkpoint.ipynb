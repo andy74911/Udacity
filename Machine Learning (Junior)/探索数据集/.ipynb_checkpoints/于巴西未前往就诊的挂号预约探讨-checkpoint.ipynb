{
 "cells": [
  {
   "cell_type": "markdown",
   "metadata": {},
   "source": [
    "# 于巴西未前往就诊的挂号预约探讨\n",
    "\n",
    "## Table of Contents\n",
    "<ul>\n",
    "<li><a href=\"#intro\">简介</a></li>\n",
    "<li><a href=\"#question\">提出问题</a></li>\n",
    "<li><a href=\"#wrangling\">数据收集和整理</a></li>\n",
    "<li><a href=\"#eda\">探索性数据分析</a></li>\n",
    "<li><a href=\"#conclusions\">总结</a></li>\n",
    "</ul>"
   ]
  },
  {
   "cell_type": "markdown",
   "metadata": {},
   "source": [
    "<a id='intro'></a>\n",
    "## 简介\n",
    "\n",
    "本数据集包含10万条巴西预约挂号的求诊信息，研究病人是否如约前往医院就诊。每行数据录入了有关患者特点的多个数值，包括 “预约日期 (ScheduledDay)”指患者具体预约就诊的日期；“街区 (Neighborhood) ”指医院所在位置；“福利保障 (Scholarship)”说明病人是否是巴西福利项目 Bolsa Família 的保障人群；请注意最后一列内容的编码：“No”表示病人已如约就诊，“Yes”说明病人未前往就诊。"
   ]
  },
  {
   "cell_type": "markdown",
   "metadata": {},
   "source": [
    "<a id=\"question\"></a>\n",
    "## 提出问题\n",
    "\n",
    "数据中除了预约日期、预约的就诊日期、年龄、街区、是否有福利保障外尚有慢性病如高血压、糖尿病、酗酒或行动不便者及简讯通知与否，试着透过这些参数分析与是否前往就诊有无显着关系。\n",
    "\n",
    "**问题 1**:统计男女预约就诊率比例的差异<br>\n",
    "**问题 2**:统计福利保障人群是的预约就诊率比例于非福利保障人群的不同<br>\n",
    "**问题 3**:分析年龄是否是预约就诊率明显变因之一<br>\n",
    "**问题 4**:慢性病者(高血压、糖尿病)、酗酒、行动不便者或简讯通知的预约就诊率比例<br>"
   ]
  },
  {
   "cell_type": "code",
   "execution_count": 1,
   "metadata": {},
   "outputs": [
    {
     "data": {
      "text/html": [
       "<div>\n",
       "<style>\n",
       "    .dataframe thead tr:only-child th {\n",
       "        text-align: right;\n",
       "    }\n",
       "\n",
       "    .dataframe thead th {\n",
       "        text-align: left;\n",
       "    }\n",
       "\n",
       "    .dataframe tbody tr th {\n",
       "        vertical-align: top;\n",
       "    }\n",
       "</style>\n",
       "<table border=\"1\" class=\"dataframe\">\n",
       "  <thead>\n",
       "    <tr style=\"text-align: right;\">\n",
       "      <th></th>\n",
       "      <th>PatientId</th>\n",
       "      <th>AppointmentID</th>\n",
       "      <th>Gender</th>\n",
       "      <th>ScheduledDay</th>\n",
       "      <th>AppointmentDay</th>\n",
       "      <th>Age</th>\n",
       "      <th>Neighbourhood</th>\n",
       "      <th>Scholarship</th>\n",
       "      <th>Hipertension</th>\n",
       "      <th>Diabetes</th>\n",
       "      <th>Alcoholism</th>\n",
       "      <th>Handcap</th>\n",
       "      <th>SMS_received</th>\n",
       "      <th>No-show</th>\n",
       "    </tr>\n",
       "  </thead>\n",
       "  <tbody>\n",
       "    <tr>\n",
       "      <th>0</th>\n",
       "      <td>2.987250e+13</td>\n",
       "      <td>5642903</td>\n",
       "      <td>F</td>\n",
       "      <td>2016-04-29T18:38:08Z</td>\n",
       "      <td>2016-04-29T00:00:00Z</td>\n",
       "      <td>62</td>\n",
       "      <td>JARDIM DA PENHA</td>\n",
       "      <td>0</td>\n",
       "      <td>1</td>\n",
       "      <td>0</td>\n",
       "      <td>0</td>\n",
       "      <td>0</td>\n",
       "      <td>0</td>\n",
       "      <td>No</td>\n",
       "    </tr>\n",
       "    <tr>\n",
       "      <th>1</th>\n",
       "      <td>5.589978e+14</td>\n",
       "      <td>5642503</td>\n",
       "      <td>M</td>\n",
       "      <td>2016-04-29T16:08:27Z</td>\n",
       "      <td>2016-04-29T00:00:00Z</td>\n",
       "      <td>56</td>\n",
       "      <td>JARDIM DA PENHA</td>\n",
       "      <td>0</td>\n",
       "      <td>0</td>\n",
       "      <td>0</td>\n",
       "      <td>0</td>\n",
       "      <td>0</td>\n",
       "      <td>0</td>\n",
       "      <td>No</td>\n",
       "    </tr>\n",
       "  </tbody>\n",
       "</table>\n",
       "</div>"
      ],
      "text/plain": [
       "      PatientId  AppointmentID Gender          ScheduledDay  \\\n",
       "0  2.987250e+13        5642903      F  2016-04-29T18:38:08Z   \n",
       "1  5.589978e+14        5642503      M  2016-04-29T16:08:27Z   \n",
       "\n",
       "         AppointmentDay  Age    Neighbourhood  Scholarship  Hipertension  \\\n",
       "0  2016-04-29T00:00:00Z   62  JARDIM DA PENHA            0             1   \n",
       "1  2016-04-29T00:00:00Z   56  JARDIM DA PENHA            0             0   \n",
       "\n",
       "   Diabetes  Alcoholism  Handcap  SMS_received No-show  \n",
       "0         0           0        0             0      No  \n",
       "1         0           0        0             0      No  "
      ]
     },
     "execution_count": 1,
     "metadata": {},
     "output_type": "execute_result"
    }
   ],
   "source": [
    "# Use this cell to set up import statements for all of the packages that you\n",
    "#   plan to use.\n",
    "\n",
    "# Remember to include a 'magic word' so that your visualizations are plotted\n",
    "#   inline with the notebook. See this page for more:\n",
    "#   http://ipython.readthedocs.io/en/stable/interactive/magics.html\n",
    "%matplotlib inline\n",
    "import matplotlib\n",
    "import numpy as np\n",
    "import pandas as pd\n",
    "import matplotlib.pyplot as plt\n",
    "import pprint as pp\n",
    "#import os\n",
    "\n",
    "file_path  =  './KaggleV2-May-2016.csv'\n",
    "df = pd.read_csv(file_path)\n",
    "df.head(2)\n"
   ]
  },
  {
   "cell_type": "code",
   "execution_count": 2,
   "metadata": {},
   "outputs": [
    {
     "name": "stdout",
     "output_type": "stream",
     "text": [
      "是否有缺资料:False\n"
     ]
    }
   ],
   "source": [
    "print(\"是否有缺资料:{}\".format(df.isnull().any().any()))"
   ]
  },
  {
   "cell_type": "code",
   "execution_count": 3,
   "metadata": {
    "collapsed": true
   },
   "outputs": [],
   "source": [
    "def draw_plot(top, bottom, title, x_label, legend):\n",
    "    N = 2\n",
    "    idx = np.arange(N)\n",
    "    width = .5\n",
    "    p1 = plt.bar(idx, top, width)\n",
    "    p2 = plt.bar(idx, bottom, width, bottom = top)\n",
    "    plt.title(title)\n",
    "    plt.xticks(idx, x_label)\n",
    "    plt.yticks(np.arange(0,1.0,0.2))\n",
    "    plt.legend((p1[0], p2[0]), legend , loc = 0)\n",
    "    plt.show()"
   ]
  },
  {
   "cell_type": "markdown",
   "metadata": {},
   "source": [
    "**问题 1** :统计男女就诊比例的差异"
   ]
  },
  {
   "cell_type": "code",
   "execution_count": 4,
   "metadata": {},
   "outputs": [
    {
     "name": "stdout",
     "output_type": "stream",
     "text": [
      "男性出席比例 : 80.03%\n",
      "女性出席比例 : 79.69%\n"
     ]
    },
    {
     "data": {
      "image/png": "[encoded data removed]",
      "text/plain": [
       "<matplotlib.figure.Figure at 0xa64e550>"
      ]
     },
     "metadata": {},
     "output_type": "display_data"
    }
   ],
   "source": [
    "df_gen_m = df[df['Gender'] == 'M']\n",
    "df_gen_f = df[df['Gender'] == 'F']\n",
    "show_m = df_gen_m.groupby('No-show')['PatientId'].count()\n",
    "show_f = df_gen_f.groupby('No-show')['PatientId'].count()\n",
    "show_sum = [sum(show_m), sum(show_f)] \n",
    "show_yes = [show_m['No']/show_sum[0], show_f['No']/show_sum[1]]\n",
    "show_no = [show_m['Yes']/show_sum[0], show_f['Yes']/show_sum[1]]\n",
    "print('男性出席比例 : {:.2%}'.format(show_yes[0]))\n",
    "print('女性出席比例 : {:.2%}'.format(show_yes[1]))\n",
    "title = 'Appointment Show Ratio (Gender)'\n",
    "x_label = ['Male', 'Female']\n",
    "legend = ['Show' ,'Not Show']\n",
    "draw_plot(show_yes, show_no ,title, x_label,legend )"
   ]
  },
  {
   "cell_type": "markdown",
   "metadata": {},
   "source": [
    "**答案 1** : 经统计结果观察男性与女性的预约就诊率就诊比例相当接近，皆约80%，无明显统计差异，因此单就性别无法当作预测指标。"
   ]
  },
  {
   "cell_type": "markdown",
   "metadata": {},
   "source": [
    "**问题 2** :统计福利保障人群是的预约就诊率比例于非福利保障人群的不同"
   ]
  },
  {
   "cell_type": "code",
   "execution_count": 5,
   "metadata": {},
   "outputs": [
    {
     "name": "stdout",
     "output_type": "stream",
     "text": [
      "福利保障人群出席比例 : 76.26%\n",
      "非福利保障人群出席比例 : 80.19%\n"
     ]
    },
    {
     "data": {
      "image/png": "[encoded data removed]",
      "text/plain": [
       "<matplotlib.figure.Figure at 0xaf07550>"
      ]
     },
     "metadata": {},
     "output_type": "display_data"
    }
   ],
   "source": [
    "df_with_scholar = df[df['Scholarship'] == 1]\n",
    "df_without_scholar = df[df['Scholarship'] == 0]\n",
    "show_with_scholar = df_with_scholar.groupby('No-show')['PatientId'].count()\n",
    "show_without_scholar = df_without_scholar.groupby('No-show')['PatientId'].count()\n",
    "show_sum = [sum(show_with_scholar), sum(show_without_scholar)] \n",
    "\n",
    "show_yes = [show_with_scholar['No']/show_sum[0], show_without_scholar['No']/show_sum[1]]\n",
    "show_no = [show_with_scholar['Yes']/show_sum[0], show_without_scholar['Yes']/show_sum[1]]\n",
    "print('福利保障人群出席比例 : {:.2%}'.format(show_yes[0]))\n",
    "print('非福利保障人群出席比例 : {:.2%}'.format(show_yes[1]))\n",
    "title = 'Appointment Show Ratio(Scholarship)'\n",
    "x_label = ['With', 'Without']\n",
    "legend = ['Show', 'Not Show']\n",
    "draw_plot(show_yes,show_no ,title, x_label,legend )"
   ]
  },
  {
   "cell_type": "markdown",
   "metadata": {},
   "source": [
    "**答案 2** :观察统计结果，福利保障人群预约就诊率的略低于非福利保障人群，其可列为预测参数之一。"
   ]
  },
  {
   "cell_type": "markdown",
   "metadata": {},
   "source": [
    "**问题 3**:分析年龄是否是预约就诊率明显变因之一"
   ]
  },
  {
   "cell_type": "code",
   "execution_count": 6,
   "metadata": {},
   "outputs": [],
   "source": [
    "show = []\n",
    "for row in df['No-show']:\n",
    "    num = 0;\n",
    "    if row == 'No' :\n",
    "        num = 1\n",
    "    show.append(num)\n",
    "df['Show'] = show"
   ]
  },
  {
   "cell_type": "code",
   "execution_count": 7,
   "metadata": {},
   "outputs": [],
   "source": [
    "age_level_list = [ 10, 20, 30, 40, 50, 60, 70 ]\n",
    "age_level_string = ['0-9', '10-19', '20-29', '30-39', '40-49', '50-59', '60-69', '70-']\n",
    "age_levels = []\n",
    "\n",
    "for row in df['Age']:\n",
    "    i = 0    \n",
    "    while i < len(age_level_list) and row > age_level_list[i]:\n",
    "        i += 1\n",
    "    level = age_level_string[i]\n",
    "    age_levels.append(level)\n",
    "\n",
    "df['AgeLevel'] = age_levels\n",
    "#df.loc[:,['Age', 'AgeLevel']].head(5)\n",
    "#df_age_group = df.groupby(['AgeLevel', 'No-show'])[['PatientId']].count().unstack()\n",
    "#df_age_group.head(5)"
   ]
  },
  {
   "cell_type": "code",
   "execution_count": 8,
   "metadata": {},
   "outputs": [
    {
     "data": {
      "image/png": "[encoded data removed]",
      "text/plain": [
       "<matplotlib.figure.Figure at 0xb9135f8>"
      ]
     },
     "metadata": {},
     "output_type": "display_data"
    }
   ],
   "source": [
    "group_age_level = df.pivot_table('Show',  index = 'AgeLevel')\n",
    "idx = np.arange(len(group_age_level.index))\n",
    "plt.bar(idx,group_age_level['Show'], width = 0.5)\n",
    "plt.xticks(idx,group_age_level.index)\n",
    "plt.title('Appointment Show Ratio (Different Age Group)')\n",
    "plt.show()"
   ]
  },
  {
   "cell_type": "markdown",
   "metadata": {},
   "source": [
    "**答案 3** : 統計趨勢觀察起來，10至19及20至29這個區間，明顯較低，而60至69歲這個區間的就診出席率最高，中間區間則逐步上升，統計上可列為觀察指標之一。"
   ]
  },
  {
   "cell_type": "markdown",
   "metadata": {},
   "source": [
    "**问题 4** :慢性病者(高血压、糖尿病)、酗酒或行动不便者的预约就诊率比例"
   ]
  },
  {
   "cell_type": "code",
   "execution_count": 26,
   "metadata": {},
   "outputs": [
    {
     "data": {
      "text/plain": [
       "\"\\nseries_no_sick = []\\nfor idx in df.index:\\n    result = 0\\n    row = df.iloc[idx]\\n    if row['Hipertension'] == 1 or row['Diabetes'] == 1 or row['Alcoholism'] != 1:\\n        result = 1\\n    series_no_sick.append(result)\\ndf['No-sick'] = series_no_sick\\ndf.head()\\n\""
      ]
     },
     "execution_count": 26,
     "metadata": {},
     "output_type": "execute_result"
    }
   ],
   "source": [
    "series_handicap = []\n",
    "for row in df['Handcap']:\n",
    "    result = 0\n",
    "    if row > 0:\n",
    "        result = 1\n",
    "    series_handicap.append(result)\n",
    "df['IsHandicap'] = series_handicap\n",
    "\n",
    "\"\"\"\n",
    "series_no_sick = []\n",
    "for idx in df.index:\n",
    "    result = 0\n",
    "    row = df.iloc[idx]\n",
    "    if row['Hipertension'] == 1 or row['Diabetes'] == 1 or row['Alcoholism'] != 1:\n",
    "        result = 1\n",
    "    series_no_sick.append(result)\n",
    "df['No-sick'] = series_no_sick\n",
    "df.head()\n",
    "\"\"\"\n"
   ]
  },
  {
   "cell_type": "code",
   "execution_count": 21,
   "metadata": {},
   "outputs": [
    {
     "data": {
      "text/plain": [
       "(                  Show\n",
       " Hipertension          \n",
       " 0             0.790963\n",
       " 1             0.826980,               Show\n",
       " Diabetes          \n",
       " 0         0.796372\n",
       " 1         0.819967,                 Show\n",
       " Alcoholism          \n",
       " 0           0.798054\n",
       " 1           0.798512,                 Show\n",
       " IsHandicap          \n",
       " 0           0.797647\n",
       " 1           0.818385,                   Show\n",
       " SMS_received          \n",
       " 0             0.832967\n",
       " 1             0.724255,              Show\n",
       " No-sick          \n",
       " 0        0.785386\n",
       " 1        0.798296)"
      ]
     },
     "execution_count": 21,
     "metadata": {},
     "output_type": "execute_result"
    }
   ],
   "source": [
    "group_hyper = df.pivot_table('Show',  index = 'Hipertension')\n",
    "group_diabetes = df.pivot_table('Show', index = 'Diabetes')\n",
    "group_alcoholism = df.pivot_table('Show', index = 'Alcoholism')\n",
    "group_handcap = df.pivot_table('Show', index = 'IsHandicap')\n",
    "group_sms = df.pivot_table('Show', index = 'SMS_received')\n",
    "group_no_sick = df.pivot_table('Show', index = 'No-sick')\n",
    "\n",
    "#group_hyper, group_diabetes, group_alcoholism, group_handcap,group_sms , group_no_sick"
   ]
  },
  {
   "cell_type": "markdown",
   "metadata": {},
   "source": [
    "<a id='wrangling'></a>\n",
    "## 数据收集和整理\n",
    "\n",
    "> **Tip**: In this section of the report, you will load in the data, check for cleanliness, and then trim and clean your dataset for analysis. Make sure that you document your steps carefully and justify your cleaning decisions.\n",
    "\n",
    "### General Properties"
   ]
  },
  {
   "cell_type": "code",
   "execution_count": 11,
   "metadata": {
    "collapsed": true
   },
   "outputs": [],
   "source": [
    "# Load your data and print out a few lines. Perform operations to inspect data\n",
    "#   types and look for instances of missing or possibly errant data.\n"
   ]
  },
  {
   "cell_type": "markdown",
   "metadata": {},
   "source": [
    "> **Tip**: You should _not_ perform too many operations in each cell. Create cells freely to explore your data. One option that you can take with this project is to do a lot of explorations in an initial notebook. These don't have to be organized, but make sure you use enough comments to understand the purpose of each code cell. Then, after you're done with your analysis, create a duplicate notebook where you will trim the excess and organize your steps so that you have a flowing, cohesive report.\n",
    "\n",
    "> **Tip**: Make sure that you keep your reader informed on the steps that you are taking in your investigation. Follow every code cell, or every set of related code cells, with a markdown cell to describe to the reader what was found in the preceding cell(s). Try to make it so that the reader can then understand what they will be seeing in the following cell(s).\n",
    "\n",
    "### Data Cleaning (Replace this with more specific notes!)"
   ]
  },
  {
   "cell_type": "code",
   "execution_count": 12,
   "metadata": {
    "collapsed": true
   },
   "outputs": [],
   "source": [
    "# After discussing the structure of the data and any problems that need to be\n",
    "#   cleaned, perform those cleaning steps in the second part of this section.\n"
   ]
  },
  {
   "cell_type": "markdown",
   "metadata": {},
   "source": [
    "<a id='eda'></a>\n",
    "## Exploratory Data Analysis\n",
    "\n",
    "> **Tip**: Now that you've trimmed and cleaned your data, you're ready to move on to exploration. Compute statistics and create visualizations with the goal of addressing the research questions that you posed in the Introduction section. It is recommended that you be systematic with your approach. Look at one variable at a time, and then follow it up by looking at relationships between variables.\n",
    "\n",
    "### Research Question 1 (Replace this header name!)"
   ]
  },
  {
   "cell_type": "code",
   "execution_count": 13,
   "metadata": {
    "collapsed": true
   },
   "outputs": [],
   "source": [
    "# Use this, and more code cells, to explore your data. Don't forget to add\n",
    "#   Markdown cells to document your observations and findings.\n"
   ]
  },
  {
   "cell_type": "markdown",
   "metadata": {},
   "source": [
    "### Research Question 2  (Replace this header name!)"
   ]
  },
  {
   "cell_type": "code",
   "execution_count": 14,
   "metadata": {
    "collapsed": true
   },
   "outputs": [],
   "source": [
    "# Continue to explore the data to address your additional research\n",
    "#   questions. Add more headers as needed if you have more questions to\n",
    "#   investigate.\n"
   ]
  },
  {
   "cell_type": "markdown",
   "metadata": {},
   "source": [
    "<a id='conclusions'></a>\n",
    "## Conclusions\n",
    "\n",
    "> **Tip**: Finally, summarize your findings and the results that have been performed. Make sure that you are clear with regards to the limitations of your exploration. If you haven't done any statistical tests, do not imply any statistical conclusions. And make sure you avoid implying causation from correlation!\n",
    "\n",
    "> **Tip**: Once you are satisfied with your work, you should save a copy of the report in HTML or PDF form via the **File** > **Download as** submenu. Before exporting your report, check over it to make sure that the flow of the report is complete. You should probably remove all of the \"Tip\" quotes like this one so that the presentation is as tidy as possible. Congratulations!"
   ]
  },
  {
   "cell_type": "code",
   "execution_count": null,
   "metadata": {
    "collapsed": true
   },
   "outputs": [],
   "source": []
  }
 ],
 "metadata": {
  "kernelspec": {
   "display_name": "Python 3",
   "language": "python",
   "name": "python3"
  },
  "language_info": {
   "codemirror_mode": {
    "name": "ipython",
    "version": 3
   },
   "file_extension": ".py",
   "mimetype": "text/x-python",
   "name": "python",
   "nbconvert_exporter": "python",
   "pygments_lexer": "ipython3",
   "version": "3.6.3"
  }
 },
 "nbformat": 4,
 "nbformat_minor": 2
}
