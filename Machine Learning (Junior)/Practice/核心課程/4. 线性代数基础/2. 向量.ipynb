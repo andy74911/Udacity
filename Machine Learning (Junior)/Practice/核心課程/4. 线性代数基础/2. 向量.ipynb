{
 "cells": [
  {
   "cell_type": "code",
   "execution_count": 53,
   "metadata": {},
   "outputs": [
    {
     "name": "stdout",
     "output_type": "stream",
     "text": [
      "0    1.082607\n",
      "1    2.671743\n",
      "dtype: float64\n",
      "[1.0826069624844668, 2.6717427583253022]\n",
      "0   -8.350081\n",
      "1    3.376061\n",
      "2   -1.433746\n",
      "dtype: float64\n",
      "[1.9685161672140898, -2.8107607484393564, 0.84808496335785033, 2.6798132332561582]\n",
      "0    1.040484\n",
      "1   -3.361239\n",
      "2    2.843915\n",
      "3   -5.189813\n",
      "dtype: float64\n"
     ]
    }
   ],
   "source": [
    "import pandas as pd\n",
    "import numpy as np\n",
    "import math\n",
    "from vectors import Point, Vector\n",
    "\n",
    "def mag(_list):\n",
    "    sum = 0\n",
    "    for item in _list:\n",
    "        sum += item**2\n",
    "    return sum**0.5\n",
    "def normalize(_list):\n",
    "    _mag = mag(_list)\n",
    "    i = 0\n",
    "    while i < len(_list):\n",
    "        _list[i] /= _mag\n",
    "        i += 1\n",
    "    return _list\n",
    "\n",
    "def dot(_list1, _list2):\n",
    "    sum = 0\n",
    "    i = 0\n",
    "    while i < len(_list1):\n",
    "        sum += (_list1[i] * _list2[i])\n",
    "        i += 1\n",
    "    return sum\n",
    "def com_par_to(vec1,vec2):\n",
    "    u = normalize(vec2)\n",
    "    weight = dot(vec1,u)\n",
    "    return list(pd.Series(u) *weight)\n",
    "def vec_cos(_list1, _list2):\n",
    "    return dot(_list1, _list2)/(mag(_list1)*mag(_list2))\n",
    "def vec_sin(item1, item2):\n",
    "    return sqrt(1-vec_cos(item1,item2))\n",
    "v1 = pd.Series([3.039, 1.879])\n",
    "b1 = pd.Series([0.825, 2.036])\n",
    "print(mag(v1)*vec_cos(v1,b1)*b1/mag(b1))\n",
    "print(com_par_to(v1,b1))\n",
    "\n",
    "v2 = pd.Series([-9.88, -3.264,-8.159])\n",
    "b2 = pd.Series([-2.155,-9.353,-9.473])\n",
    "print(v2 - com_par_to(v2,b2))\n",
    "v3 = pd.Series([3.009,-6.172,3.692,-2.51])\n",
    "b3 = pd.Series([6.404, -9.144,2.759,8.718]) \n",
    "print(com_par_to(v3,b3))\n",
    "print(v3-com_par_to(v3,b3))"
   ]
  }
 ],
 "metadata": {
  "kernelspec": {
   "display_name": "Python 3",
   "language": "python",
   "name": "python3"
  },
  "language_info": {
   "codemirror_mode": {
    "name": "ipython",
    "version": 3
   },
   "file_extension": ".py",
   "mimetype": "text/x-python",
   "name": "python",
   "nbconvert_exporter": "python",
   "pygments_lexer": "ipython3",
   "version": "3.6.3"
  }
 },
 "nbformat": 4,
 "nbformat_minor": 2
}
